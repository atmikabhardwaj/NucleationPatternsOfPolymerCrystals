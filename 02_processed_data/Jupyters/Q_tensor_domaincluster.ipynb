{
 "cells": [
  {
   "cell_type": "markdown",
   "id": "4265835c",
   "metadata": {},
   "source": [
    "This notebook is a part of the work 'Nucleation patterns of polymer crystals analyzed by machine learning models' and is written by Atmika Bhardwaj (bhardwaj@ipfdd.de).\n",
    "\n",
    "The following machine learning (ML) models are employed: AutoEncoders (AE), Hierarchical Clustering (HC), Gaussian Mixture Models (GMM), Multilayer Perceptron (MLP) to harness the capabilities of ML algorithms to unfold the details associated with the different phases that emerge during polymer crystallization. We start by reading a coordinate file (dump file from LAMMPS) and analyze it to study the local environmental information of every coarse-grained bead. Then, we train an AE to compress that information and train a GMM on the compressed data to classify each coarse-grained into amorphous or crytalline depending on its enviromental fingerprint.\n",
    "\n",
    "This notebook imports all the functions from another file called all_functions.py\n"
   ]
  },
  {
   "cell_type": "code",
   "execution_count": null,
   "id": "5dff2938",
   "metadata": {},
   "outputs": [],
   "source": [
    "import glob\n",
    "import random\n",
    "import pickle\n",
    "import numpy                  as     np\n",
    "import pandas                 as     pd\n",
    "from   numpy.random           import seed\n",
    "import matplotlib.pyplot      as     plt\n",
    "import h5py                   as     h5py\n",
    "from   mpl_toolkits.mplot3d   import Axes3D\n",
    "from   natsort                import natsorted\n",
    "from   scipy.spatial          import distance\n",
    "import scipy.linalg           as linlag\n",
    "from   all_functions          import *\n",
    "import control_parameters\n",
    "param = control_parameters.get_defaults()\n",
    "seed(1)\n",
    "plt.rcParams[\"figure.figsize\"]  = (6,5)\n",
    "plt.rcParams[\"figure.dpi\"]      = 300\n",
    "plt.rcParams['xtick.labelsize'] = 16\n",
    "plt.rcParams['ytick.labelsize'] = 16\n",
    "\n",
    "skip_processing=True"
   ]
  },
  {
   "cell_type": "code",
   "execution_count": null,
   "id": "fcce84fb",
   "metadata": {},
   "outputs": [],
   "source": [
    "chainLength     = param[\"chainlength\"]\n",
    "dx              = param[\"dR\"]\n",
    "Rmax            = param[\"Rmax\"]\n",
    "g               = natsorted(glob.glob('../../01_raw_data/dump_files/dump.*'))\n",
    "filename        = '../../02_processed_data/Labels/AE_labels.sav'\n",
    "all_ae_labels   = np.array(pickle.load(open(filename, 'rb')))\n",
    "timestep        = -1\n",
    "obj             = ReadCoordinates(g[timestep], chainLength)"
   ]
  },
  {
   "cell_type": "code",
   "execution_count": null,
   "id": "2b3e4611",
   "metadata": {},
   "outputs": [],
   "source": [
    "for i in np.arange(len(g)):\n",
    "    aelabels  = all_ae_labels[i]\n",
    "    class1    = np.where(aelabels == 1)[0]\n",
    "    print(i, len(class1))"
   ]
  },
  {
   "cell_type": "code",
   "execution_count": null,
   "id": "61d11c58",
   "metadata": {},
   "outputs": [],
   "source": [
    "def recursion(new_indices, class1, grid):\n",
    "    new_n    = []\n",
    "    for l in new_indices:\n",
    "        temp = list(grid.indices[int(np.where(class1 == l)[0])]) #to get the indices, we need the poisiton of l in class1\n",
    "        new_n.append(temp)                                       #now this contains again original indices of particles wrt 1M\n",
    "    return new_n\n",
    "\n",
    "def flatten(x):\n",
    "    if isinstance(x, collections.abc.Iterable):\n",
    "        return [a for i in x for a in flatten(i)]\n",
    "    else:\n",
    "        return [x]"
   ]
  },
  {
   "cell_type": "code",
   "execution_count": null,
   "id": "200b8b34",
   "metadata": {},
   "outputs": [],
   "source": [
    "def get_domains(timestep, cutoff, all_labels):\n",
    "    aelabels  = all_labels[timestep]\n",
    "    class1    = np.where(aelabels == 1)[0]\n",
    "    \n",
    "    obj  = ReadCoordinates(g[timestep], chainLength)\n",
    "    grid = GridSearch(obj, numSigma = 5.0)\n",
    "    grid.updateNeighborLists(obj, class1, cutoff)\n",
    "    \n",
    "    targeted = np.arange(len(class1))\n",
    "    domains  = []\n",
    "    visited  = []\n",
    "\n",
    "    for i in targeted:\n",
    "        if class1[i] not in visited:\n",
    "            temp_n      = list(grid.indices[i])\n",
    "            temp_n      = set(temp_n) - set(visited)                #removing the elements already visited\n",
    "            temp_n      = list(set(temp_n).intersection(class1))    #keeping the elements that are in class1 only\n",
    "            neigh       = temp_n.copy()\n",
    "            visited.append(temp_n)\n",
    "            visited     = list(flatten(visited))\n",
    "            n_added     = len(temp_n)\n",
    "\n",
    "            while n_added != 0:\n",
    "                temp_n  = recursion(temp_n, class1, grid)\n",
    "                temp_n  = flatten(temp_n)\n",
    "                temp_n  = set(temp_n) - set(visited)\n",
    "                temp_n  = list(temp_n.intersection(class1))\n",
    "                n_added = len(temp_n)\n",
    "                #print(n_added)\n",
    "                neigh.append(temp_n)\n",
    "                visited.append(temp_n)\n",
    "                visited = list(set(flatten(visited)))\n",
    "                #print('n_visited = ', len(visited))\n",
    "\n",
    "            neigh       = list(set(flatten(neigh)))\n",
    "            domains.append(np.array(neigh))\n",
    "    domains = np.array(domains, dtype=object)\n",
    "    return domains"
   ]
  },
  {
   "cell_type": "code",
   "execution_count": null,
   "id": "0bf934e9",
   "metadata": {},
   "outputs": [],
   "source": [
    "if not skip_processing:\n",
    "    t_start  = 44\n",
    "    R        = 0.86\n",
    "    domains  = []\n",
    "    filename = '../all_domains.sav' \n",
    "    for i in np.arange(t_start, len(g)):\n",
    "        print(i)\n",
    "        domains.append(get_domains(timestep = i, cutoff = R, all_labels = all_ae_labels))\n",
    "\n",
    "    pickle.dump(domains, open(filename, 'wb'), protocol=pickle.HIGHEST_PROTOCOL)"
   ]
  },
  {
   "cell_type": "code",
   "execution_count": null,
   "id": "205d6871",
   "metadata": {},
   "outputs": [],
   "source": [
    "filename  = '../all_domains.sav'\n",
    "groups    = np.array(pickle.load(open(filename, 'rb')), dtype = object)[-1]\n",
    "print('total number of domains = ', len(groups))\n",
    "\n",
    "significant_groups = []                            #ignoring groups with 100 monomers or less\n",
    "for i in np.arange(len(groups)):\n",
    "    if len(groups[i]) > 100:\n",
    "        significant_groups.append(groups[i])\n",
    "        \n",
    "len(significant_groups)"
   ]
  },
  {
   "cell_type": "code",
   "execution_count": null,
   "id": "107b6e25",
   "metadata": {},
   "outputs": [],
   "source": [
    "comb = []\n",
    "\n",
    "for i, array in enumerate(significant_groups[:20]):\n",
    "    id_    = f'group_{i}'\n",
    "    id_col = np.full((array.shape[0], 1), id_)\n",
    "    array  = np.hstack((id_col, obj.folded[significant_groups[i]]))\n",
    "    comb.append(array)\n",
    "\n",
    "all_data = np.vstack(comb)\n",
    "\n",
    "cols = ['Group#', 'x', 'y', 'z']\n",
    "df = pd.DataFrame(all_data, columns=cols)\n",
    "\n",
    "df.to_csv('../../03_figures/FigS2/FigS2a.csv')"
   ]
  },
  {
   "cell_type": "code",
   "execution_count": null,
   "id": "bcd4fa28",
   "metadata": {},
   "outputs": [],
   "source": [
    "fig    = plt.figure()\n",
    "ax     = fig.add_subplot(111, projection = '3d')\n",
    "for i in np.arange(10,20): \n",
    "    p1 = (obj.folded[significant_groups[i]])\n",
    "    ax.scatter(p1[:,0], p1[:,1], p1[:,2], s = 0.1, label = 'domain ' + str(i+1))\n",
    "\n",
    "ax.set_xlabel('$X~(\\sigma)$', fontsize = 20)\n",
    "ax.set_ylabel('$Y~(\\sigma)$', fontsize = 20)\n",
    "ax.set_zlabel('$Z~(\\sigma)$', fontsize = 20)\n",
    "lgnd = ax.legend(fontsize=10)\n",
    "for handle in lgnd.legendHandles:\n",
    "    handle.set_sizes([30.0])\n",
    "plt.savefig('../../03_figures/FigS2/FigS2a.png')"
   ]
  },
  {
   "cell_type": "code",
   "execution_count": null,
   "id": "cef3749c",
   "metadata": {},
   "outputs": [],
   "source": [
    "group_number = 22\n",
    "\n",
    "def closest_pt(pt, pts):\n",
    "    closest_index = distance.cdist([pt], pts).argmin()\n",
    "    return pts[closest_index]\n",
    "\n",
    "members    = obj.folded[significant_groups[group_number]]\n",
    "mid_point  = np.average(members, axis = 0)\n",
    "mid_member = closest_pt(mid_point, members)\n",
    "print('Coordinates of the cental atom = ', mid_member)"
   ]
  },
  {
   "cell_type": "markdown",
   "id": "5c6f439e",
   "metadata": {},
   "source": [
    "## Q-tensor"
   ]
  },
  {
   "cell_type": "code",
   "execution_count": null,
   "id": "e78533fa",
   "metadata": {},
   "outputs": [],
   "source": [
    "def compute_Q_tensor(all_bondsv):\n",
    "    \n",
    "    Q_ab = np.empty(shape = (all_bondsv.shape[0], 3, 3), dtype = np.float64)\n",
    "    for i, vector in enumerate(all_bondsv):\n",
    "            Q_ab[i, 0, 0] = 3.0 * vector[0] * vector[0] - 1\n",
    "            Q_ab[i, 0, 1] = 3.0 * vector[0] * vector[1]\n",
    "            Q_ab[i, 0, 2] = 3.0 * vector[0] * vector[2]\n",
    "            Q_ab[i, 1, 0] = 3.0 * vector[1] * vector[0]\n",
    "            Q_ab[i, 1, 1] = 3.0 * vector[1] * vector[1] - 1\n",
    "            Q_ab[i, 1, 2] = 3.0 * vector[1] * vector[2]\n",
    "            Q_ab[i, 2, 0] = 3.0 * vector[2] * vector[0]\n",
    "            Q_ab[i, 2, 1] = 3.0 * vector[2] * vector[1]\n",
    "            Q_ab[i, 2, 2] = 3.0 * vector[2] * vector[2] - 1\n",
    "    Q_ab /= (2.0 * all_bondsv.shape[1])\n",
    "    return Q_ab"
   ]
  },
  {
   "cell_type": "code",
   "execution_count": null,
   "id": "bd366ce1",
   "metadata": {},
   "outputs": [],
   "source": [
    "qt          = []\n",
    "eignvectors = []\n",
    "for i in np.arange(len(significant_groups)):\n",
    "    qt.append(compute_Q_tensor(obj.bonds[significant_groups[i]]))\n",
    "    \n",
    "    print('*********', i, 'th group **********')\n",
    "\n",
    "    s  = sum(qt[i])/len(significant_groups[i])\n",
    "    print('Added matrix: ')\n",
    "    print( s)\n",
    "\n",
    "    eigvals, eigvecs = linlag.eig(s)\n",
    "    print()\n",
    "\n",
    "    print('Eigenvalues = ',eigvals)\n",
    "    print('Eigen vectors :')\n",
    "    print(eigvecs)\n",
    "    print('Largest eigenvalue-vector = ', eigvecs[:, np.argmax(eigvals)])\n",
    "    eignvectors.append(eigvecs[:, np.argmax(eigvals)])"
   ]
  },
  {
   "cell_type": "code",
   "execution_count": null,
   "id": "bbf18679",
   "metadata": {},
   "outputs": [],
   "source": [
    "fig        = plt.figure()\n",
    "ax         = fig.add_subplot(111, projection = '3d')\n",
    "\n",
    "p1         = obj.folded[significant_groups[group_number]]\n",
    "ax.scatter(p1[:,0], p1[:,1], p1[:,2], s = 0.3, c = 'r')\n",
    "\n",
    "mid_point  = np.average(p1, axis = 0)\n",
    "mid_member = closest_pt(mid_point, p1)\n",
    "print('Cental atom = ', mid_member)\n",
    "\n",
    "evd        = np.array(( mid_member, mid_member + 10 * eignvectors[group_number] ))      #Eigen_vector direction\n",
    "\n",
    "plt.plot ( evd[:,0], evd[:,1], evd[:,2] )\n",
    "\n",
    "ax.set_xlabel('$X$', fontsize = 30)\n",
    "ax.set_ylabel('$Y$', fontsize = 30)\n",
    "ax.set_zlabel('$Z$', fontsize = 30)"
   ]
  },
  {
   "cell_type": "markdown",
   "id": "fa564725",
   "metadata": {},
   "source": [
    "### Projection of particles on the plane perpendicular to the eigen vector corresponding to maximum eigenvalue per domain"
   ]
  },
  {
   "cell_type": "code",
   "execution_count": null,
   "id": "c60be3f1",
   "metadata": {},
   "outputs": [],
   "source": [
    "members      = obj.folded[significant_groups[group_number]]\n",
    "members_bond = obj.bonds[significant_groups[group_number]]\n",
    "eig_vector   = eignvectors[group_number]\n",
    "np.sum(members_bond[:100] * eig_vector, axis = 1)"
   ]
  },
  {
   "cell_type": "code",
   "execution_count": null,
   "id": "ab5f5483",
   "metadata": {},
   "outputs": [],
   "source": [
    "#eig_vector is the orthogonal vector to plane\n",
    "#we project all the points in a crytal domain on this plane\n",
    "def projection_on_plane(vectors, e_vec):\n",
    "    \n",
    "    proj_on_plane = []\n",
    "    e_norm        = np.sqrt(sum(e_vec**2)) \n",
    "    for i in vectors:\n",
    "        proj_of_i_on_e_vec = (np.sum (i * e_vec) /e_norm**2) * e_vec\n",
    "        proj_on_plane.append (i - proj_of_i_on_e_vec)\n",
    "        \n",
    "    return np.array(proj_on_plane)\n",
    "\n",
    "pon = projection_on_plane(obj.folded[significant_groups[group_number]], eig_vector)"
   ]
  },
  {
   "cell_type": "code",
   "execution_count": null,
   "id": "334bd733",
   "metadata": {},
   "outputs": [],
   "source": [
    "fig = plt.figure()\n",
    "ax  = fig.add_subplot(111, projection = '3d')\n",
    "p1  = pon\n",
    "ax.scatter(p1[:,0], p1[:,1], p1[:,2], s = 0.3, c = 'r')\n",
    "ax.set_xlabel('$X$', fontsize = 30)\n",
    "ax.set_ylabel('$Y$', fontsize = 30)\n",
    "ax.set_zlabel('$Z$', fontsize = 30)"
   ]
  },
  {
   "cell_type": "code",
   "execution_count": null,
   "id": "b9be1744",
   "metadata": {},
   "outputs": [],
   "source": [
    "def orthogonal_vectors(vector):\n",
    "    # Generating 2 perpendicular vectors (n, m), n = average bond oreintation direction\n",
    "    vector /= np.linalg.norm(vector)\n",
    "    m       = np.random.randn(3)                    # take a random vector\n",
    "    m      -= m.dot(vector) * vector                # make it orthogonal to k\n",
    "    m      /= np.linalg.norm(m)\n",
    "    n       = np.cross(vector, m)                   # cross product with k  \n",
    "    return m, n\n",
    "\n",
    "m, n        = orthogonal_vectors(eignvectors[group_number])\n",
    "print(eignvectors[group_number], m, n)\n",
    "print()\n",
    "print(np.dot(m, n), np.dot(m, eignvectors[group_number]), np.dot(n, eignvectors[group_number]))"
   ]
  },
  {
   "cell_type": "code",
   "execution_count": null,
   "id": "3da24255",
   "metadata": {},
   "outputs": [],
   "source": [
    "fig        = plt.figure()\n",
    "ax         = plt.axes(projection = '3d')\n",
    "p1         = pon.copy()\n",
    "ax.scatter(p1[:,0], p1[:,1], p1[:,2], s = 0.3)\n",
    "\n",
    "mid_point  = np.average(p1, axis = 0)\n",
    "mid_member = closest_pt(mid_point, p1)\n",
    "print('Cental atom = ', mid_member)\n",
    "\n",
    "evd        = np.array(( mid_member, mid_member + 7 * m ))\n",
    "p1         = evd\n",
    "ax.plot3D(p1[:,0], p1[:,1], p1[:,2], c = 'r')\n",
    "\n",
    "evd        = np.array(( mid_member, mid_member + 10 * n ))\n",
    "p1         = evd\n",
    "ax.plot3D(p1[:,0], p1[:,1], p1[:,2], c = 'b')\n",
    "\n",
    "evd        = np.array(( mid_member, mid_member + 4 * eignvectors[group_number] ))\n",
    "p1         = evd\n",
    "ax.plot3D(p1[:,0], p1[:,1], p1[:,2], c = 'g')\n",
    "\n",
    "ax.set_xlabel('$X$', fontsize = 30)\n",
    "ax.set_ylabel('$Y$', fontsize = 30)\n",
    "ax.set_zlabel('$Z$', fontsize = 30)\n",
    "#plt.savefig('One_cluster.jpg', dpi = 700)"
   ]
  },
  {
   "cell_type": "code",
   "execution_count": null,
   "id": "5be196a9",
   "metadata": {},
   "outputs": [],
   "source": [
    "def rotation_matrix_from_vectors(vec1, vec2):\n",
    "    \"\"\" Find the rotation matrix that aligns vec1 to vec2\n",
    "    :param vec1: A 3d \"source\" vector\n",
    "    :param vec2: A 3d \"destination\" vector\n",
    "    :return mat: A transform matrix (3x3) which when applied to vec1, aligns it with vec2.\n",
    "    \"\"\"\n",
    "    a, b            = (vec1 / np.linalg.norm(vec1)).reshape(3), (vec2 / np.linalg.norm(vec2)).reshape(3)\n",
    "    v               = np.cross(a, b)\n",
    "    c               = np.dot(a, b)\n",
    "    s               = np.linalg.norm(v)\n",
    "    kmat            = np.array([[0, -v[2], v[1]], [v[2], 0, -v[0]], [-v[1], v[0], 0]])\n",
    "    rotation_matrix = np.eye(3) + kmat + kmat.dot(kmat) * ((1 - c) / (s**2))\n",
    "    return rotation_matrix\n",
    "\n",
    "rot_mat             = rotation_matrix_from_vectors(eignvectors[group_number], np.array([1,0,0]))\n",
    "trace_rot_mat       = rot_mat.trace()\n",
    "ang_rot_mat         = np.cos(0.5 * trace_rot_mat - 0.5)\n",
    "print(rot_mat)\n",
    "print(eignvectors[group_number], np.matmul(rot_mat, eignvectors[group_number]))\n",
    "\n",
    "rotated_points      = np.matmul( rot_mat, np.transpose( obj.folded[ significant_groups[ group_number]]))\n",
    "rotated_ev          = np.matmul( rot_mat, eignvectors[ group_number])"
   ]
  },
  {
   "cell_type": "code",
   "execution_count": null,
   "id": "9504d1a5",
   "metadata": {},
   "outputs": [],
   "source": [
    "fig = plt.figure(figsize = (10,6))\n",
    "ax  = fig.add_subplot(111, projection = '3d')\n",
    "pon = projection_on_plane(np.transpose(rotated_points), rotated_ev)\n",
    "p1  = pon\n",
    "ax.scatter(p1[:,0], p1[:,1], p1[:,2], s = 0.3, c = 'r')\n",
    "ax.set_xlabel('$X$', fontsize = 30)\n",
    "ax.set_ylabel('$Y$', fontsize = 30)\n",
    "ax.set_zlabel('$Z$', fontsize = 30)\n",
    "\n",
    "fig = plt.figure(figsize = (10,6))\n",
    "plt.scatter(p1[:,0], p1[:,1], s = 0.3, c = 'r')\n",
    "fig = plt.figure(figsize = (10,6))\n",
    "plt.scatter(p1[:,0], p1[:,2], s = 0.3, c = 'r')\n",
    "fig = plt.figure(figsize = (10,6))\n",
    "plt.scatter(p1[:,1], p1[:,2], s = 0.3, c = 'r')\n",
    "plt.xlabel('$Y$', fontsize = 30)\n",
    "plt.ylabel('$Z$', fontsize = 30)\n"
   ]
  },
  {
   "cell_type": "code",
   "execution_count": null,
   "id": "25d394ec",
   "metadata": {},
   "outputs": [],
   "source": [
    "plt.rcParams['xtick.labelsize'] = 30\n",
    "plt.rcParams['ytick.labelsize'] = 30"
   ]
  },
  {
   "cell_type": "code",
   "execution_count": null,
   "id": "bb7817ae",
   "metadata": {},
   "outputs": [],
   "source": [
    "# plot 2D histogram using pcolor\n",
    "fig    = plt.figure(figsize = (10, 10))\n",
    "p1     = pon[:, 1:3]\n",
    "size   = 256\n",
    "w      = 10\n",
    "c      = [np.mean(p1[:,0]), np.mean(p1[:,1])]\n",
    "\n",
    "signal = plt.hist2d(p1[:,0], p1[:,1], range = ((c[0] - w, c[0] + w), (c[1] - w, c[1] + w)), bins = size, cmap = plt.cm.twilight)\n",
    "np.savetxt('../../03_figures/FigS2/FigS2b.csv', p1, delimiter=\",\")\n",
    "plt.xlabel('$Y~(\\sigma)$', fontsize = 35)\n",
    "plt.ylabel('$Z~(\\sigma)$', fontsize = 35)\n",
    "plt.savefig('../../03_figures/FigS2/FigS2b')\n"
   ]
  },
  {
   "cell_type": "code",
   "execution_count": null,
   "id": "d73e49a1",
   "metadata": {},
   "outputs": [],
   "source": [
    "from matplotlib.patches import Circle\n",
    "\n",
    "def plot_spectrum(im_fft):\n",
    "    from matplotlib.colors import LogNorm # A logarithmic colormap\n",
    "    qmax = 2.0*np.pi/(2*w/(im_fft.shape[0]/2))\n",
    "    print (\"qmax = \",qmax)\n",
    "    plt.imshow(np.abs(im_fft), norm = LogNorm(vmin = 10), extent = (-qmax,qmax,-qmax,qmax))\n",
    "    plt.gca().add_patch(Circle((0,0), radius=2.0*np.pi/(10./11.9), color=\"red\", fill=False))\n",
    "    #plt.colorbar()\n",
    "\n",
    "dft       = np.fft.fft2(signal[0])\n",
    "dft_shift = np.fft.fftshift(dft)\n",
    "mag       = np.abs(dft_shift)\n",
    "ang       = np.angle(dft_shift)\n",
    "\n",
    "np.savetxt('../../03_figures/FigS2/FigS2c.csv', dft_shift, delimiter=\",\")\n",
    "\n",
    "plt.figure(figsize = (10,10))\n",
    "plot_spectrum(dft_shift)\n",
    "#plt.title ('Fourier transform of the crystal domain', fontdict = {'fontsize' : 15})\n",
    "#plt.title('Fourier transform')\n",
    "plt.xlabel('$2π~/~\\lambda_y$', fontsize = 30)\n",
    "plt.ylabel('$2π~/~\\lambda_z$', fontsize = 30)\n",
    "plt.savefig('../../03_figures/FigS2/FigS2c')"
   ]
  },
  {
   "cell_type": "code",
   "execution_count": null,
   "id": "8a72bf89",
   "metadata": {},
   "outputs": [],
   "source": [
    "2.0*np.pi/(10./11.9)"
   ]
  }
 ],
 "metadata": {
  "kernelspec": {
   "display_name": "Python 3 (ipykernel)",
   "language": "python",
   "name": "python3"
  },
  "language_info": {
   "codemirror_mode": {
    "name": "ipython",
    "version": 3
   },
   "file_extension": ".py",
   "mimetype": "text/x-python",
   "name": "python",
   "nbconvert_exporter": "python",
   "pygments_lexer": "ipython3",
   "version": "3.9.18"
  }
 },
 "nbformat": 4,
 "nbformat_minor": 5
}
